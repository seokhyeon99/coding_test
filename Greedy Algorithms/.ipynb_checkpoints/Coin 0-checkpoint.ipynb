{
 "cells": [
  {
   "cell_type": "code",
   "execution_count": 11,
   "metadata": {},
   "outputs": [
    {
     "name": "stdout",
     "output_type": "stream",
     "text": [
      "10 4200\n",
      "1\n",
      "5\n",
      "10\n",
      "50\n",
      "100\n",
      "500\n",
      "1000\n",
      "5000\n",
      "10000\n",
      "50000\n",
      "6\n"
     ]
    }
   ],
   "source": [
    "target = list(map(int, input().strip().split()))\n",
    "coin_type = []\n",
    "\n",
    "for i in range(target[0]):\n",
    "    coin_type.append(int(input()))\n",
    "coin_type.sort(reverse=True)\n",
    "\n",
    "number_of_coin = 0\n",
    "for j in range(len(coin_type)):\n",
    "    quotient = target[1] // coin_type[j]\n",
    "    target[1] -= quotient * coin_type[j]\n",
    "    number_of_coin += quotient\n",
    "\n",
    "print(number_of_coin)"
   ]
  }
 ],
 "metadata": {
  "kernelspec": {
   "display_name": "Python 3",
   "language": "python",
   "name": "python3"
  },
  "language_info": {
   "codemirror_mode": {
    "name": "ipython",
    "version": 3
   },
   "file_extension": ".py",
   "mimetype": "text/x-python",
   "name": "python",
   "nbconvert_exporter": "python",
   "pygments_lexer": "ipython3",
   "version": "3.8.5"
  }
 },
 "nbformat": 4,
 "nbformat_minor": 4
}
