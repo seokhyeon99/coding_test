{
 "cells": [
  {
   "cell_type": "code",
   "execution_count": 1,
   "metadata": {},
   "outputs": [
    {
     "name": "stdout",
     "output_type": "stream",
     "text": [
      "2\n"
     ]
    }
   ],
   "source": [
    "import sys\n",
    "n = int(sys.stdin.readline().strip())\n",
    "time = sys.stdin.readline().strip().split()\n",
    "time_list = []\n",
    "for i in time:\n",
    "    time_list.append(int(i))\n",
    "time_list.sort()\n",
    "sum = 0\n",
    "for j in range(len(time_list)):\n",
    "    sum += int(time_list[j]) * (len(time_list) - j)\n",
    "print(sum)"
   ]
  },
  {
   "cell_type": "code",
   "execution_count": 46,
   "metadata": {},
   "outputs": [
    {
     "name": "stdout",
     "output_type": "stream",
     "text": [
      "3\n",
      "11 10 9\n",
      "[9, 10, 11]\n",
      "58\n"
     ]
    }
   ],
   "source": [
    "n = int(input())\n",
    "time = input().split()\n",
    "time_list = []\n",
    "for i in time:\n",
    "    time_list.append(int(i))\n",
    "time_list.sort()\n",
    "sum = 0\n",
    "for j in range(len(time_list)):\n",
    "    sum += int(time_list[j]) * (len(time_list) - j)\n",
    "print(sum)"
   ]
  },
  {
   "cell_type": "code",
   "execution_count": 49,
   "metadata": {},
   "outputs": [
    {
     "name": "stdout",
     "output_type": "stream",
     "text": [
      "5\n",
      "1 2 3 3 4\n",
      "32\n"
     ]
    }
   ],
   "source": [
    "n = int(input())\n",
    "time_list = list(map(int, input().split()))\n",
    "time_list.sort()\n",
    "sum = 0\n",
    "for j in range(len(time_list)):\n",
    "    sum += int(time_list[j]) * (len(time_list) - j)\n",
    "print(sum)"
   ]
  }
 ],
 "metadata": {
  "kernelspec": {
   "display_name": "Python 3",
   "language": "python",
   "name": "python3"
  },
  "language_info": {
   "codemirror_mode": {
    "name": "ipython",
    "version": 3
   },
   "file_extension": ".py",
   "mimetype": "text/x-python",
   "name": "python",
   "nbconvert_exporter": "python",
   "pygments_lexer": "ipython3",
   "version": "3.8.5"
  }
 },
 "nbformat": 4,
 "nbformat_minor": 4
}
